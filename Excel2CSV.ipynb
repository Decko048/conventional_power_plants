{
 "cells": [
  {
   "cell_type": "code",
   "execution_count": null,
   "metadata": {
    "collapsed": false
   },
   "outputs": [],
   "source": [
    "import os, pandas as pd\n",
    "\n",
    "#country_list = ['BE', 'CZ','ES', 'FI', 'FR', 'IT', 'NL', 'PL', 'UK']\n",
    "#filename = 'input_plant_locations_'\n",
    "\n",
    "country_list = ['DK', 'NO', 'SE','SK', 'SI', 'AT_conventional', 'AT_hydro']\n",
    "filename = 'input_plant-list_'\n",
    "\n",
    "sheet = 'data_'\n",
    "folder = 'input'\n",
    "\n",
    "#filename = 'energy_source_levels'\n",
    "#sheet = 'Tabelle1'\n",
    "#folder = 'input'\n",
    "\n",
    "for country in country_list:\n",
    "    print(country)\n",
    "    df = pd.read_excel(os.path.join(folder, filename + country + '.xlsx'), sheet=sheet + country, index_col=0)\n",
    "    df.to_csv(os.path.join(folder, filename + country + '.csv'), encoding='utf-8')\n"
   ]
  },
  {
   "cell_type": "code",
   "execution_count": null,
   "metadata": {
    "collapsed": false
   },
   "outputs": [],
   "source": [
    "df2 = pd.read_csv(os.path.join(folder, filename+'.csv'))\n",
    "df2.head(100)"
   ]
  }
 ],
 "metadata": {
  "anaconda-cloud": {},
  "kernelspec": {
   "display_name": "Python [default]",
   "language": "python",
   "name": "python3"
  },
  "language_info": {
   "codemirror_mode": {
    "name": "ipython",
    "version": 3
   },
   "file_extension": ".py",
   "mimetype": "text/x-python",
   "name": "python",
   "nbconvert_exporter": "python",
   "pygments_lexer": "ipython3",
   "version": "3.5.2"
  }
 },
 "nbformat": 4,
 "nbformat_minor": 0
}
