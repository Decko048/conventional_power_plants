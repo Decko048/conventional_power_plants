{
 "cells": [
  {
   "cell_type": "markdown",
   "metadata": {},
   "source": [
    "<div style=\"width:100%; background-color: #D9EDF7; border: 1px solid #CFCFCF; text-align: left; padding: 10px;\">\n",
    "      <b>Conventional Power Plants: Main notebook</b>\n",
    "      <ul>\n",
    "        <li>Main Notebook</li>\n",
    "        <li><a href=\"download_and_process_DE.ipynb\">Processing notebook for German power plant</a></li>\n",
    "        <li><a href=\"download_and_process_EU.ipynb\">Processing notebook for European power plants</a></li>\n",
    "      </ul>\n",
    "      <br>This notebook is part of the <a href=\"http://data.open-power-system-data.org/DATA PACKAGE NAME HERE\"> Data package name here Data Package</a> of <a href=\"http://open-power-system-data.org\">Open Power System Data</a>.\n",
    "</div>"
   ]
  },
  {
   "cell_type": "markdown",
   "metadata": {},
   "source": [
    "# 1. About Open Power System Data \n",
    "This notebook is part of the project [Open Power System Data](http://open-power-system-data.org). Open Power System Data develops a platform for free and open data for electricity system modeling. We collect, check, process, document, and provide data that are publicly available but currently inconvenient to use. \n",
    "More info on Open Power System Data:\n",
    "- [Information on the project on our website](http://open-power-system-data.org)\n",
    "- [Data and metadata on our data platform](http://data.open-power-system-data.org)\n",
    "- [Data processing scripts on our GitHub page](https://github.com/Open-Power-System-Data)\n",
    "\n",
    "# 2. About Jupyter Notebooks and GitHub\n",
    "This file is a [Jupyter Notebook](http://jupyter.org/). A Jupyter Notebook is a file that combines executable programming code with visualizations and comments in markdown format, allowing for an intuitive documentation of the code. We use Jupyter Notebooks for combined coding and documentation. We use Python 3 as programming language. All Notebooks are stored on [GitHub](https://github.com/), a platform for software development, and are publicly available. More information on our IT-concept can be found [here](http://open-power-system-data.org/it). See also our [step-by-step manual](http://open-power-system-data.org/step-by-step) how to use the dataplatform.\n",
    "\n",
    "# 3. About this Data Package\n",
    "We provide data in different chunks, or [datapackages](http://frictionlessdata.io/data-packages/). The one you are looking at is on [conventional power plants](http://data.open-power-system-data.org/convetional_power_plants/), \n",
    "\n",
    "This notebook processes data on conventional power plants for Germany as well as other European countries. The data includes individual power plants with their technical characteristics. These include installed capacity, main energy source, type of technology, CHP capability, and geographical information.\n",
    "\n",
    "\n",
    "# 4. Data sources\n",
    "We use as publicly available data sources, which includes national statistical offices, ministries, regulatory authorities, transmission system operators, as well as other associations. All data sources are listed in the datapackage.json file including their link.\n",
    "\n",
    "## 4.1 Germany\n",
    "- \"BNetzA Kraftwerksliste\"\n",
    "- \"Umweltbundesamt Datenbank Kraftwerke in Deutschland\"\n",
    "- For efficiency estimation: Jonas Egerer, Clemens Gerbaulet, Richard Ihlenburg, Friedrich Kunz, Benjamin Reinhard, Christian von Hirschhausen, Alexander Weber, Jens Weibezahn (2014): **Electricity Sector Data for Policy-Relevant Modeling: Data Documentation and Applications to the German and European Electricity Markets**. DIW Data Documentation 72, Berlin, Germany. [Download](https://www.diw.de/documents/publikationen/73/diw_01.c.440963.de/diw_datadoc_2014-072.pdf)\n",
    "- Other sources, e.g. for efficiency and georeferencing, are provided in the file\n",
    "\n",
    "## 4.2 Selected European countries\n",
    "- **AT**: **Verbund AG** (Austrian utility), Our hydro power plants. Source links for conventional units are given in the column \"source\" of the power plant list\n",
    "- **BE**: **ELIA** (Belgian transmission system operator), Generation facilities\n",
    "- **CH**: **BFE** (Swiss Federal Office of Energy), Statistics of swiss hydro power plants and Nuclear energy\n",
    "- **CZ**: **CEPS** (Czech transmission system operator), Available capacity\n",
    "- **DK**: **Energinet.dk** (Danish transmission system operator), Energinet.dk's assumptions for analysis\n",
    "- **ES**: **SEDE** (Ministry of Industry, Energy and Tourism), Productores (in Conjunto de Datos)\n",
    "- **FI**: **Energy Authority**, Power plant register\n",
    "- **FR**: **RTE** (French tranmission system operator), List of production units of more than 100 MW\n",
    "- **IT**: **TERNA** (Italian transmission network operator), Installed generation capacity\n",
    "- **NL**: **TenneT** (Dutch transmission system operator), Available capacity\n",
    "- **NO**: **NVE** (Norwegian Water Resources and Energy Directorate), Lists of thermal and hydro power plants\n",
    "- **PL**: **GPI** (Information Platform by the Polish Power Exchange), List of generation units\n",
    "- **SE**: **Nordpool** (Power exchange), Installed generation capacity larger than 100 MW per unit in Sweden (17.12.2014, Download is inactive as data has been deleted by Nordpool)\n",
    "- **SI**: **Several sources**, Source links of data are given in the column \"source\" of the power plant list\n",
    "- **SK**: **SEAS** (Slovakian utility), Power plants\n",
    "- **UK**: **Statistical Office**, Power stations in the United Kingdom (DUKES)\n",
    "\n",
    "\n",
    "Beside the listed publicly available sources, additional, but decentralized, information on individual power plants are available (e.g. on operator's webpages). We therefore aim to continuously extend the lists by these information.\n",
    "\n",
    "# 5. Model Output\n",
    "The following standardized notation is used in this datapackage for energy sources, technology type:\n",
    "\n",
    "## 5.1 Energy sources\n",
    "Original Name in BNetzA-List|model output|Full name\n",
    ":-:|:-:|:-:\n",
    "Steinkohle|coal|Hard coal\n",
    "Erdgas|natural_gas|Natural Gas\n",
    "Braunkohle|lignite|Lignite\n",
    "Kernenergie|uranium|Uranium\n",
    "Pumpspeicher|pumped_storage|Pumped Storage (Water)\n",
    "Biomasse|biomass|Biomass\n",
    "Mineralölprodukte|oil|Mineral oil products \n",
    "Laufwasser|hydro|Water (run of river)\n",
    "Sonstige Energieträger (nicht erneuerbar) |other_non_renewable|Other Fuels (not renewable)\n",
    "Abfall|waste|Waste\n",
    "Speicherwasser (ohne Pumpspeicher)|reservoir|Reservoir\n",
    "Unbekannter Energieträger (nicht erneuerbar)|unknown_non_renewable|Unknown (not renewable)\n",
    "Mehrere Energieträger (nicht erneuerbar)|multiple_non_renewable|Multiple (not renewable)\n",
    "Deponiegas|gas_landfill|Landfill gas\n",
    "Windenergie (Onshore-Anlage)|wind_onshore|Onshore wind\n",
    "Windenergie (Offshore-Anlage)|wind_offshore|Offshore Wind\n",
    "Solare Strahlungsenergie|solar|Solar energy\n",
    "Klärgas|gas_sewage|Sewage Gas\n",
    "Geothermie|geothermal|Geothermal energy\n",
    "Grubengas|gas_mine|Mine Gas\n",
    "\n",
    "## 5.2 Energy source structure\n",
    "![OPSD-Tree](http://open-power-system-data.org/2016-10-25-opsd_tree.svg)\n",
    "\n",
    "## 5.3 CHP type\n",
    "CHP Type abbreviation|Full name\n",
    ":-:|:-:\n",
    "CHP|Combined heat and power\n",
    "IPP|Industrial power plant\n",
    "\n",
    "\n",
    "# 6. License\n",
    "This notebook as well as all other documents in this repository is published under the [MIT License](LICENSE.md)."
   ]
  },
  {
   "cell_type": "markdown",
   "metadata": {},
   "source": [
    "# 7. Documenting the data package (meta data)"
   ]
  },
  {
   "cell_type": "code",
   "execution_count": 1,
   "metadata": {},
   "outputs": [],
   "source": [
    "import os\n",
    "import yaml\n",
    "import json\n",
    "from download_and_process_functions import get_sha_hash"
   ]
  },
  {
   "cell_type": "markdown",
   "metadata": {},
   "source": [
    "## 7.1 Write checksums"
   ]
  },
  {
   "cell_type": "markdown",
   "metadata": {},
   "source": [
    "Execute both the Germany and Europe notebooks first in order to generate the needed files."
   ]
  },
  {
   "cell_type": "code",
   "execution_count": 8,
   "metadata": {
    "scrolled": false
   },
   "outputs": [],
   "source": [
    "output_path = 'output'\n",
    "\n",
    "files = [\n",
    "    'conventional_power_plants_DE.csv', 'conventional_power_plants_DE.xlsx',\n",
    "    'conventional_power_plants_EU.csv', 'conventional_power_plants_EU.xlsx',\n",
    "    'conventional_power_plants.sqlite']\n",
    "\n",
    "hash_dict = {}\n",
    "filesize_dict = {}\n",
    "\n",
    "with open('checksums.txt', 'w') as f:\n",
    "    for file_name in files:\n",
    "        file_hash = get_sha_hash(os.path.join(output_path, file_name))\n",
    "        hash_dict[file_name] = file_hash\n",
    "        filesize_dict[file_name] = os.path.getsize(output_path)\n",
    "        f.write('{},{}\\n'.format(file_name, file_hash))"
   ]
  },
  {
   "cell_type": "markdown",
   "metadata": {},
   "source": [
    "## 7.1 Write the results to file"
   ]
  },
  {
   "cell_type": "markdown",
   "metadata": {},
   "source": [
    "We document the data packages meta data in the specific format JSON as proposed by the Open Knowledge Foundation. See the Frictionless Data project by OKFN (http://data.okfn.org/) and the Data Package specifications (http://dataprotocols.org/data-packages/) for more details.\n",
    "\n",
    "In order to keep the notebook more readable, we first formulate the metadata in the human-readable YAML format using a multi-line string. We then parse the string into a Python dictionary and save that to disk as a JSON file."
   ]
  },
  {
   "cell_type": "code",
   "execution_count": 13,
   "metadata": {
    "scrolled": false
   },
   "outputs": [],
   "source": [
    "with open(os.path.join('input', 'metadata.yml'), 'r') as f:\n",
    "    metadata = yaml.load(f.read(), Loader=yaml.BaseLoader)\n",
    "    \n",
    "metadata['resources'][0]['hash'] = hash_dict['conventional_power_plants_DE.csv']\n",
    "metadata['resources'][1]['hash'] = hash_dict['conventional_power_plants_DE.xlsx']\n",
    "metadata['resources'][2]['hash'] = hash_dict['conventional_power_plants_EU.csv']\n",
    "metadata['resources'][3]['hash'] = hash_dict['conventional_power_plants_EU.xlsx']\n",
    "\n",
    "metadata['resources'][0]['bytes'] = filesize_dict['conventional_power_plants_DE.csv']\n",
    "metadata['resources'][1]['bytes'] = filesize_dict['conventional_power_plants_DE.xlsx']\n",
    "metadata['resources'][2]['bytes'] = filesize_dict['conventional_power_plants_EU.csv']\n",
    "metadata['resources'][3]['bytes'] = filesize_dict['conventional_power_plants_EU.xlsx']"
   ]
  },
  {
   "cell_type": "code",
   "execution_count": 14,
   "metadata": {
    "scrolled": false
   },
   "outputs": [],
   "source": [
    "datapackage_json = json.dumps(metadata, indent=4, separators=(',', ': '))\n",
    "    \n",
    "# Write the information of the metadata\n",
    "with open(os.path.join('output', 'datapackage.json'), 'w') as f:\n",
    "    f.write(datapackage_json)"
   ]
  },
  {
   "cell_type": "markdown",
   "metadata": {},
   "source": [
    "End of script."
   ]
  }
 ],
 "metadata": {
  "anaconda-cloud": {},
  "kernelspec": {
   "display_name": "Python 3",
   "language": "python",
   "name": "python3"
  },
  "language_info": {
   "codemirror_mode": {
    "name": "ipython",
    "version": 3
   },
   "file_extension": ".py",
   "mimetype": "text/x-python",
   "name": "python",
   "nbconvert_exporter": "python",
   "pygments_lexer": "ipython3",
   "version": "3.8.3"
  }
 },
 "nbformat": 4,
 "nbformat_minor": 1
}
