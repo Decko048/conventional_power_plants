{
 "cells": [
  {
   "cell_type": "markdown",
   "metadata": {},
   "source": [
    "# Validity Checks\n",
    "This section tests the results in various ways to find errors\n",
    "## Visual validity check\n",
    "### Sum of capacity by fuel type"
   ]
  },
  {
   "cell_type": "code",
   "execution_count": null,
   "metadata": {
    "collapsed": true
   },
   "outputs": [],
   "source": [
    "pivot_fuel_capacity = pd.pivot_table(\n",
    "                        plantlist, \n",
    "                        values='capacity', \n",
    "                        index='fuel', \n",
    "                        aggfunc=[np.sum]\n",
    "                        )\n",
    "pivot_fuel_capacity.sort_values(by='sum', inplace=True, ascending=0)\n",
    "#pivot_fuel_capacity\n",
    "pivot_fuel_capacity_plot=pivot_fuel_capacity.plot(kind='bar', legend=False, figsize=(12, 6))\n",
    "pivot_fuel_capacity_plot.set_ylabel(\"MW\")\n",
    "pivot_fuel_capacity_plot"
   ]
  },
  {
   "cell_type": "markdown",
   "metadata": {},
   "source": [
    "### Capacities by plant status"
   ]
  },
  {
   "cell_type": "code",
   "execution_count": null,
   "metadata": {
    "collapsed": true
   },
   "outputs": [],
   "source": [
    "pivot_status_capacity = pd.pivot_table(\n",
    "                        plantlist, \n",
    "                        values='capacity',\n",
    "                        columns='status',\n",
    "                        index='fuel', \n",
    "                        aggfunc=np.sum\n",
    "                        )\n",
    "pivot_status_capacity.sort_values(by='operating', inplace=True, ascending=0)\n",
    "#pivot_status_capacity\n",
    "pivot_status_capacity_plot=pivot_status_capacity.plot(kind='barh', stacked=True,legend=True, figsize=(12, 6))\n",
    "pivot_status_capacity_plot.set_xlabel(\"MW\")\n",
    "pivot_status_capacity_plot"
   ]
  },
  {
   "cell_type": "markdown",
   "metadata": {},
   "source": [
    "### Power plant age"
   ]
  },
  {
   "cell_type": "code",
   "execution_count": null,
   "metadata": {
    "collapsed": true
   },
   "outputs": [],
   "source": [
    "plantlist_filtered = plantlist#[plantlist.fuel=='coal']\n",
    "pivot_age_capacity = pd.pivot_table(\n",
    "                        plantlist_filtered, \n",
    "                        values='capacity',\n",
    "                        columns='fuel',\n",
    "                        index='commissioned', \n",
    "#                        index='fuel',\n",
    "#                        columns='commissioned',     \n",
    "                        aggfunc=np.sum,\n",
    "                        dropna=True\n",
    "                        )\n",
    "#pivot_age_capacity\n",
    "pivot_age_capacity_plot=pivot_age_capacity.plot(kind='bar', stacked=True,legend=True, figsize=(17, 10))\n",
    "pivot_age_capacity_plot.set_ylabel(\"MW\")\n",
    "pivot_age_capacity_plot"
   ]
  },
  {
   "cell_type": "markdown",
   "metadata": {},
   "source": [
    "### Block size vs year of commissioning\n",
    "This chart is suitable to check outliers of commissioning years and block sizes. \n",
    "In theory, there should be no unexpected values, e.g. all commissioning years should be greater than 1900. \n",
    "Block sizes above 2000 MW are also unlikely."
   ]
  },
  {
   "cell_type": "code",
   "execution_count": null,
   "metadata": {
    "collapsed": true
   },
   "outputs": [],
   "source": [
    "plantlist_for_plot = plantlist.copy(deep=True)\n",
    "plantlist_for_plot['capacity_float'] = pd.to_numeric(plantlist_for_plot['capacity'], errors='coerce')\n",
    "plantlist_for_plot['commissioned_float'] = pd.to_numeric(plantlist_for_plot['commissioned'], errors='coerce')\n",
    "plot_blocksize_year = Scatter(plantlist_for_plot, \n",
    "                              notebook=True, \n",
    "                              x='commissioned_float', \n",
    "                              y='capacity_float',\n",
    "                              color='fuel', \n",
    "                              title='Block-Size vs Year of Commissioning', \n",
    "                              xlabel='Year', \n",
    "                              ylabel='MW',\n",
    "                              legend=\"top_left\",\n",
    "                              height=500,\n",
    "                              width=700,\n",
    "                             )\n",
    "show(plot_blocksize_year)"
   ]
  },
  {
   "cell_type": "markdown",
   "metadata": {},
   "source": [
    "## Logical checks\n",
    "### Every power plant needs a capacity\n",
    "List all entries with zero capacity."
   ]
  },
  {
   "cell_type": "code",
   "execution_count": null,
   "metadata": {
    "collapsed": true
   },
   "outputs": [],
   "source": [
    "plantlist[plantlist.capacity == 0]"
   ]
  },
  {
   "cell_type": "markdown",
   "metadata": {},
   "source": [
    "### Commissioning Dates"
   ]
  },
  {
   "cell_type": "code",
   "execution_count": 1,
   "metadata": {
    "collapsed": false
   },
   "outputs": [
    {
     "ename": "NameError",
     "evalue": "name 'plantlist' is not defined",
     "output_type": "error",
     "traceback": [
      "\u001b[1;31m---------------------------------------------------------------------------\u001b[0m",
      "\u001b[1;31mNameError\u001b[0m                                 Traceback (most recent call last)",
      "\u001b[1;32m<ipython-input-1-431f8080580c>\u001b[0m in \u001b[0;36m<module>\u001b[1;34m()\u001b[0m\n\u001b[0;32m      1\u001b[0m \u001b[1;31m#Show all Plants with commisioning dates below 1900\u001b[0m\u001b[1;33m\u001b[0m\u001b[1;33m\u001b[0m\u001b[0m\n\u001b[1;32m----> 2\u001b[1;33m \u001b[0mplantlist\u001b[0m\u001b[1;33m[\u001b[0m\u001b[0mplantlist\u001b[0m\u001b[1;33m[\u001b[0m\u001b[1;34m'commissioned_float'\u001b[0m\u001b[1;33m]\u001b[0m \u001b[1;33m<=\u001b[0m\u001b[1;36m1900\u001b[0m\u001b[1;33m]\u001b[0m\u001b[1;33m\u001b[0m\u001b[0m\n\u001b[0m",
      "\u001b[1;31mNameError\u001b[0m: name 'plantlist' is not defined"
     ]
    }
   ],
   "source": [
    "#Show all Plants with commisioning dates below 1900 \n",
    "plantlist[plantlist['commissioned_float'] <=1900]"
   ]
  },
  {
   "cell_type": "code",
   "execution_count": null,
   "metadata": {
    "collapsed": true
   },
   "outputs": [],
   "source": [
    "#Show all Plants with invalid commisioning dates\n",
    "plantlist[plantlist['commissioned_float'].isnull()]"
   ]
  },
  {
   "cell_type": "markdown",
   "metadata": {},
   "source": [
    "### Compare UBA and BNetzA data\n",
    "#### Postcodes of BNetzA and UBA lists should match"
   ]
  },
  {
   "cell_type": "code",
   "execution_count": null,
   "metadata": {
    "collapsed": true
   },
   "outputs": [],
   "source": [
    "# List all entries with diverging postcodes (if a postcode is given)\n",
    "plantlist[(plantlist['uba_postcode'].notnull() == True) & (pd.to_numeric(plantlist.postcode, errors='coerce') != pd.to_numeric(plantlist.uba_postcode, errors='coerce'))]"
   ]
  },
  {
   "cell_type": "markdown",
   "metadata": {},
   "source": [
    "#### Compare Installed capacities"
   ]
  },
  {
   "cell_type": "code",
   "execution_count": null,
   "metadata": {
    "collapsed": true
   },
   "outputs": [],
   "source": [
    "capacitycomparison = pd.DataFrame(plantlist.capacity / plantlist.uba_capacity)\n",
    "capacitycomparison['Name'] = plantlist.name\n",
    "capacitycomparison['Block'] = plantlist.block\n",
    "capacitycomparison['BnetzaCapacity'] = plantlist.capacity\n",
    "capacitycomparison['UBACapacity'] = plantlist.uba_capacity\n",
    "capacitycomparison.dropna(inplace=True)\n",
    "capacitycomparison.sort_values(by=0)"
   ]
  },
  {
   "cell_type": "markdown",
   "metadata": {},
   "source": [
    "#### Compare Comissioning Years"
   ]
  },
  {
   "cell_type": "code",
   "execution_count": null,
   "metadata": {
    "collapsed": true
   },
   "outputs": [],
   "source": [
    "commissioningcomparison = pd.DataFrame(plantlist.commissioned)\n",
    "commissioningcomparison['UBACommissioned'] = plantlist.uba_commissioned\n",
    "commissioningcomparison['commissioned_float'] = pd.to_numeric(commissioningcomparison['commissioned'],errors='coerce')\n",
    "commissioningcomparison['UBACommissioned_float'] = pd.to_numeric(commissioningcomparison['UBACommissioned'],errors='coerce')\n",
    "\n",
    "commissioningcomparison['Faktor'] = commissioningcomparison.commissioned_float - commissioningcomparison.UBACommissioned_float\n",
    "commissioningcomparison['Name'] = plantlist.name\n",
    "commissioningcomparison['Block'] = plantlist.block\n",
    "\n",
    "commissioningcomparison.dropna(subset = ['commissioned'], inplace=True)\n",
    "commissioningcomparison.dropna(subset = ['UBACommissioned'], inplace=True)\n",
    "commissioningcomparison = commissioningcomparison.sort_values(by='Faktor')\n",
    "\n",
    "commissioningcomparison"
   ]
  },
  {
   "cell_type": "code",
   "execution_count": null,
   "metadata": {
    "collapsed": true
   },
   "outputs": [],
   "source": []
  },
  {
   "cell_type": "code",
   "execution_count": null,
   "metadata": {
    "collapsed": true
   },
   "outputs": [],
   "source": []
  },
  {
   "cell_type": "code",
   "execution_count": null,
   "metadata": {
    "collapsed": true
   },
   "outputs": [],
   "source": []
  },
  {
   "cell_type": "code",
   "execution_count": null,
   "metadata": {
    "collapsed": true
   },
   "outputs": [],
   "source": []
  },
  {
   "cell_type": "code",
   "execution_count": null,
   "metadata": {
    "collapsed": true
   },
   "outputs": [],
   "source": []
  },
  {
   "cell_type": "code",
   "execution_count": null,
   "metadata": {
    "collapsed": true
   },
   "outputs": [],
   "source": []
  },
  {
   "cell_type": "code",
   "execution_count": null,
   "metadata": {
    "collapsed": true
   },
   "outputs": [],
   "source": []
  },
  {
   "cell_type": "code",
   "execution_count": null,
   "metadata": {
    "collapsed": true
   },
   "outputs": [],
   "source": []
  },
  {
   "cell_type": "code",
   "execution_count": null,
   "metadata": {
    "collapsed": true
   },
   "outputs": [],
   "source": []
  },
  {
   "cell_type": "code",
   "execution_count": null,
   "metadata": {
    "collapsed": true
   },
   "outputs": [],
   "source": []
  }
 ],
 "metadata": {
  "kernelspec": {
   "display_name": "Python 3",
   "language": "python",
   "name": "python3"
  },
  "language_info": {
   "codemirror_mode": {
    "name": "ipython",
    "version": 3
   },
   "file_extension": ".py",
   "mimetype": "text/x-python",
   "name": "python",
   "nbconvert_exporter": "python",
   "pygments_lexer": "ipython3",
   "version": "3.5.1"
  }
 },
 "nbformat": 4,
 "nbformat_minor": 0
}
